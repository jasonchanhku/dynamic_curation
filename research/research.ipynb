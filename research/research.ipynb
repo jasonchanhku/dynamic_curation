{
 "cells": [
  {
   "cell_type": "code",
   "execution_count": 1,
   "metadata": {},
   "outputs": [],
   "source": [
    "import os\n",
    "import streamlit as st\n",
    "# Additional imports will be needed to interact with Azure Blob Storage and Azure Search.\n",
    "\n",
    "from azure.storage.blob import BlobServiceClient, BlobClient, ContainerClient\n",
    "from azure.core.credentials import AzureKeyCredential\n",
    "from azure.search.documents.indexes import SearchIndexClient\n",
    "from azure.search.documents import SearchClient\n",
    "from azure.identity import DefaultAzureCredential\n",
    "\n",
    "from dotenv import load_dotenv\n",
    "\n",
    "load_dotenv()\n",
    "\n",
    "CONTAINER_NAME = os.getenv(\"AZURE_BLOB_STORAGE_CONTAINER_NAME\")"
   ]
  },
  {
   "cell_type": "markdown",
   "metadata": {},
   "source": [
    "# List container blobs and upload/overwrite blob"
   ]
  },
  {
   "cell_type": "code",
   "execution_count": 2,
   "metadata": {},
   "outputs": [],
   "source": [
    "# account_url = \"https://eaomstorage.blob.core.windows.net/\"\n",
    "# default_credential = DefaultAzureCredential()\n",
    "# Create the BlobServiceClient object\n",
    "connect_str = os.getenv('AZURE_BLOB_STORAGE_CS')\n",
    "\n",
    "# Create the BlobServiceClient object\n",
    "blob_service_client = BlobServiceClient.from_connection_string(connect_str)\n",
    "container_client = blob_service_client.get_container_client(\"dynamic\")\n",
    "blob_list = [blob.name for blob in container_client.list_blobs()]\n"
   ]
  },
  {
   "cell_type": "code",
   "execution_count": 3,
   "metadata": {},
   "outputs": [
    {
     "data": {
      "text/plain": [
       "['page_010.md', 'page_011.md', 'page_089.md']"
      ]
     },
     "execution_count": 3,
     "metadata": {},
     "output_type": "execute_result"
    }
   ],
   "source": [
    "blob_list"
   ]
  },
  {
   "cell_type": "code",
   "execution_count": 4,
   "metadata": {},
   "outputs": [],
   "source": [
    "blob_client = blob_service_client.get_blob_client(container=CONTAINER_NAME, blob=blob_list[0])"
   ]
  },
  {
   "cell_type": "code",
   "execution_count": 5,
   "metadata": {},
   "outputs": [],
   "source": [
    "blob_client = blob_client.download_blob().readall()"
   ]
  },
  {
   "cell_type": "code",
   "execution_count": 6,
   "metadata": {},
   "outputs": [
    {
     "name": "stdout",
     "output_type": "stream",
     "text": [
      "b'\\n||||\\n| - | - | - |\\n| 13 | Residential Questionnaire Jason | Only applicable for residing or working outside - Hong Kong/ Macau/ Mainland China or the current residential address for more than 6 months per year Not applicable for simplified underwriting products - |\\n| 14 | Other Questionnaire | Applicable for proposed insured who suffered from relevant health impairment or engaged in avocation activities |\\n| Additional Documents for Investment Linked Products |||\\n| 15 | Important Facts Statement and Applicant\\'s Declaration Investment-Linked Assurance Scheme (\"ILAS\") Policy | |\\n| 16 | Risk Profile Questionnaire (RPQ) | |\\n| | For \"Alpha Regular Investor (ARI)\" ||\\n| 17 | Customer Declaration | |\\n| | For \"Manulife Investment Plus (MI Plus)\" | |\\n| 18 | T39 and Bank Account Proof with bank code, branch code, account number, account holder\\'s name | Applicable if the investment choices with payout distribution |\\n| 19 | WMQFII | Only applicable for Manulife Inv China A Fund and/ or Manulife Inv China Bond Fund |\\n| Additional Documents for Company as policyowner |||\\n| 20 | Business Insurance Questionnaire | The application form and all documents must be - |\\n| 21 | All other forms | signed by an authorized person with \"For and on behalf of xxx\" or \"Authorized Signature xxx\". - Refer to Section 8 for details |\\n\\n| No. | Form Type | Resident ||\\n| - | - | - | - |\\n| Additional Documents for MCV and Overseas Residents ||||\\n| || MCV Resident | Foreigners (Non MCV Resident) |\\n| 22 | Certified true copy of Policyowner and Proposed Insured\\'s travel document in client\\'s personal data page (if Proposed Insured is age 18 or above) - Refer to Remarks A for explanation - Application sign date must before expiry date of the travel document | \\xe2\\x88\\x9a :selected: | \\xe2\\x88\\x9a :selected: |\\n| 23 | Copy of Policyowner and Proposed Insured\\'s entry chop page or landing slip (if Proposed Insured is age 18 or above) - Application sign date must within the valid period of staying in Hong Kong (i.e. the period of \"permitted to remain until\") | \\xe2\\x88\\x9a :selected: | \\xe2\\x88\\x9a :selected: |\\n| 24 | Relationship proof For example, birth certificate, residential household booklet ( :unselected: - \\xe7\\xb0\\xbf/\\xe6\\x88\\xb7\\xe5\\x8f\\xa3\\xe5\\x90\\x8d\\xe5\\x86\\x8a),etc. | \\xe2\\x88\\x9a :selected: | \\xe2\\x88\\x9a :selected: |\\n\\n<!-- PageFooter=\"For Internal Reference Only\" -->\\n\\n<!-- PageNumber=\"Page 10\" -->\\n'\n"
     ]
    }
   ],
   "source": [
    "print(blob_client)"
   ]
  },
  {
   "cell_type": "code",
   "execution_count": null,
   "metadata": {},
   "outputs": [],
   "source": []
  },
  {
   "cell_type": "code",
   "execution_count": null,
   "metadata": {},
   "outputs": [],
   "source": []
  },
  {
   "cell_type": "markdown",
   "metadata": {},
   "source": [
    "#  Azure Search"
   ]
  },
  {
   "cell_type": "code",
   "execution_count": 2,
   "metadata": {},
   "outputs": [],
   "source": [
    "# Set the service endpoint and API key from the environment\n",
    "\n",
    "search_key = os.getenv(\"AZURE_SEARCH_ADMIN_KEY\")\n",
    "index_name = os.getenv(\"AZURE_SEARCH_INDEX_NAME\")\n",
    "\n",
    "# Create an SDK client\n",
    "search_endpoint = os.getenv(\"AZURE_SEARCH_ENDPOINT\")"
   ]
  },
  {
   "cell_type": "code",
   "execution_count": 6,
   "metadata": {},
   "outputs": [],
   "source": [
    "# check if exist\n",
    "search_client = SearchIndexClient(search_endpoint, AzureKeyCredential(search_key))\n",
    "result = search_client.get_index(index_name)"
   ]
  },
  {
   "cell_type": "code",
   "execution_count": 4,
   "metadata": {},
   "outputs": [
    {
     "data": {
      "text/plain": [
       "<azure.search.documents.indexes.models._index.SearchIndex at 0x7f93cc0df220>"
      ]
     },
     "execution_count": 4,
     "metadata": {},
     "output_type": "execute_result"
    }
   ],
   "source": [
    "result"
   ]
  },
  {
   "cell_type": "code",
   "execution_count": 7,
   "metadata": {},
   "outputs": [],
   "source": [
    "# delete an index\n",
    "\n",
    "search_client = SearchIndexClient(search_endpoint, AzureKeyCredential(search_key))\n",
    "search_client.delete_index(index_name)"
   ]
  },
  {
   "cell_type": "code",
   "execution_count": 13,
   "metadata": {},
   "outputs": [],
   "source": [
    "from azure.identity import DefaultAzureCredential"
   ]
  },
  {
   "cell_type": "code",
   "execution_count": 14,
   "metadata": {},
   "outputs": [],
   "source": [
    "credential = DefaultAzureCredential()"
   ]
  },
  {
   "cell_type": "code",
   "execution_count": 16,
   "metadata": {},
   "outputs": [
    {
     "data": {
      "text/plain": [
       "(<azure.identity._credentials.environment.EnvironmentCredential at 0x7fb09b6126b0>,\n",
       " <azure.identity._credentials.managed_identity.ManagedIdentityCredential at 0x7fb09b612a70>,\n",
       " <azure.identity._credentials.shared_cache.SharedTokenCacheCredential at 0x7fb09b611630>,\n",
       " <azure.identity._credentials.azure_cli.AzureCliCredential at 0x7fb09b611750>,\n",
       " <azure.identity._credentials.azure_powershell.AzurePowerShellCredential at 0x7fb09b610b50>,\n",
       " <azure.identity._credentials.azd_cli.AzureDeveloperCliCredential at 0x7fb09b610af0>)"
      ]
     },
     "execution_count": 16,
     "metadata": {},
     "output_type": "execute_result"
    }
   ],
   "source": [
    "credential.credentials"
   ]
  },
  {
   "cell_type": "code",
   "execution_count": 18,
   "metadata": {},
   "outputs": [],
   "source": [
    "credential = DefaultAzureCredential()"
   ]
  },
  {
   "cell_type": "code",
   "execution_count": 19,
   "metadata": {},
   "outputs": [
    {
     "data": {
      "text/plain": [
       "(<azure.identity._credentials.environment.EnvironmentCredential at 0x7fb09b600af0>,\n",
       " <azure.identity._credentials.managed_identity.ManagedIdentityCredential at 0x7fb09b601720>,\n",
       " <azure.identity._credentials.shared_cache.SharedTokenCacheCredential at 0x7fb09b600cd0>,\n",
       " <azure.identity._credentials.azure_cli.AzureCliCredential at 0x7fb09b459390>,\n",
       " <azure.identity._credentials.azure_powershell.AzurePowerShellCredential at 0x7fb09b45be80>,\n",
       " <azure.identity._credentials.azd_cli.AzureDeveloperCliCredential at 0x7fb09b45a920>)"
      ]
     },
     "execution_count": 19,
     "metadata": {},
     "output_type": "execute_result"
    }
   ],
   "source": [
    "credential.credentials"
   ]
  },
  {
   "cell_type": "code",
   "execution_count": null,
   "metadata": {},
   "outputs": [],
   "source": []
  }
 ],
 "metadata": {
  "kernelspec": {
   "display_name": "research",
   "language": "python",
   "name": "python3"
  },
  "language_info": {
   "codemirror_mode": {
    "name": "ipython",
    "version": 3
   },
   "file_extension": ".py",
   "mimetype": "text/x-python",
   "name": "python",
   "nbconvert_exporter": "python",
   "pygments_lexer": "ipython3",
   "version": "3.10.13"
  }
 },
 "nbformat": 4,
 "nbformat_minor": 2
}
